{
  "nbformat": 4,
  "nbformat_minor": 0,
  "metadata": {
    "colab": {
      "provenance": [],
      "authorship_tag": "ABX9TyORela83z51zy9Vv/zcitn+",
      "include_colab_link": true
    },
    "kernelspec": {
      "name": "python3",
      "display_name": "Python 3"
    },
    "language_info": {
      "name": "python"
    }
  },
  "cells": [
    {
      "cell_type": "markdown",
      "metadata": {
        "id": "view-in-github",
        "colab_type": "text"
      },
      "source": [
        "<a href=\"https://colab.research.google.com/github/384400klm/Taller-2/blob/main/TALLER_2.ipynb\" target=\"_parent\"><img src=\"https://colab.research.google.com/assets/colab-badge.svg\" alt=\"Open In Colab\"/></a>"
      ]
    },
    {
      "cell_type": "markdown",
      "source": [
        "Algoritmo\n",
        "\n",
        "1. inicio\n",
        "2. obtener la distancia recorrida en kilometros\n",
        "3. obtener tiempo de detención en minutos\n",
        "4. obtener la hora de inicio en formato 24h\n",
        "5. Definir la tarifa base igual a 6000\n",
        "6. Determinar el total por la distancia\n",
        "   Si distancia <= 5, costo_distancia = distancia * 1500\n",
        "    - Si 5 < distancia <= 15, costo_distancia = distancia * 1200\n",
        "    - Si distancia > 15, costo_distancia = distancia * 1000\n",
        "7. calcula el valor total pagar\n",
        "8. finalizar\n",
        "\n",
        "\n",
        "\n",
        "Pseudocodigo\n",
        "\n",
        "Inicio\n",
        "// Obtener distancia recorrida en kilómetros\n",
        "\n",
        "distancia (float)\n",
        "\n",
        "// Obtener tiempo de detención en minutos\n",
        "\n",
        "tiempo_detencion (int)\n",
        "\n",
        "// Obtener hora de inicio en formato 24h\n",
        "\n",
        "hora_inicio (int)\n",
        "\n",
        " // Definir tarifa base\n",
        "\n",
        " tarifa_base (float) = 6000\n",
        "\n",
        "SI distancia ≤ 5 ENTONCES\n",
        "costo_distancia (float) = distancia × 1500\n",
        "SINO SI 5 < distancia ≤ 15 ENTONCES\n",
        "costo_distancia (float) = distancia × 1200\n",
        "SINO\n",
        "costo_distancia (float) = distancia × 1000\n",
        "\n",
        "calcular_total (float) = tarifa_base + costo_distancia + (tiempo_detencion × 400) + recargo_nocturno (float)\n",
        "\n",
        "// Calcular valor total pagar, incluyendo recargo nocturno si aplica\n"
      ],
      "metadata": {
        "id": "PjtSBm6DFJLR"
      }
    },
    {
      "cell_type": "code",
      "source": [
        "# Calcular tarifa del taxi (distancia, tiempo_detencion, hora_inicio)\n",
        "distancia = float(input(\"Ingrese la distancia recorrida en kilómetros: \"))\n",
        "tiempo_detencion = int(input(\"Ingrese el tiempo de detención en minutos: \"))\n",
        "hora_inicio = int(input(\"Ingrese la hora de inicio en formato 24h: \"))\n",
        "\n",
        "tarifa_base = 6000\n",
        "if distancia <= 5:\n",
        "    tarifa_por_kilometro = 1500\n",
        "elif 5 < distancia <= 15:\n",
        "    tarifa_por_kilometro = 1200\n",
        "else:\n",
        "    tarifa_por_kilometro = 1000\n",
        "costo_por_distancia = distancia * tarifa_por_kilometro\n",
        "costo_por_detencion = tiempo_detencion * 400\n",
        "if hora_inicio >= 22 or hora_inicio <= 6:\n",
        "    recargo_nocturno = (costo_por_distancia + costo_por_detencion) * 0.20\n",
        "else:\n",
        "    recargo_nocturno = 0\n",
        "tarifa_total = tarifa_base + costo_por_distancia + costo_por_detencion + recargo_nocturno\n",
        "print(tarifa_total)"
      ],
      "metadata": {
        "colab": {
          "base_uri": "https://localhost:8080/"
        },
        "id": "yD0Y0smIYWCT",
        "outputId": "d9ffb84d-97ef-4c12-c20c-a8447d8f9695"
      },
      "execution_count": null,
      "outputs": [
        {
          "output_type": "stream",
          "name": "stdout",
          "text": [
            "Ingrese la distancia recorrida en kilómetros: 1\n",
            "Ingrese el tiempo de detención en minutos: 5\n",
            "Ingrese la hora de inicio en formato 24h: 3\n",
            "10200.0\n"
          ]
        }
      ]
    },
    {
      "cell_type": "code",
      "source": [],
      "metadata": {
        "id": "5oSPYLc9YwbJ"
      },
      "execution_count": null,
      "outputs": []
    }
  ]
}